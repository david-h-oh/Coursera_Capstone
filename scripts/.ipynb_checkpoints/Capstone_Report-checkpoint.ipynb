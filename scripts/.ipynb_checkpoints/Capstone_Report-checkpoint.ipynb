{
 "cells": [
  {
   "cell_type": "markdown",
   "metadata": {},
   "source": [
    "# Capstone Project - The Battle of Neighborhoods\n",
    "## Finding the best location for a coffee shop/cafe in NYC"
   ]
  },
  {
   "cell_type": "markdown",
   "metadata": {},
   "source": [
    "### Introduction/Business Problem"
   ]
  },
  {
   "cell_type": "markdown",
   "metadata": {},
   "source": [
    "When starting a business for the first time, it can be daunting to identify the best location. For my capstone, suppose a new entrepreneur wants to open a coffee shop or a cafe in New York City (Manhattan). Which neighborhood would be the best location?"
   ]
  },
  {
   "cell_type": "markdown",
   "metadata": {},
   "source": [
    "### Data"
   ]
  },
  {
   "cell_type": "markdown",
   "metadata": {},
   "source": [
    "In order to tackle the problem outlined above, I first imported the dataset from NYU for the geographic locations of the New York City neighborhoods ([here](https://geo.nyu.edu/catalog/nyu_2451_34572)). Next, I utilized the Foursquare API call to retrieve the list of coffee shops and cafes for each neighborhood. The list was then used to identify neighborhoods with high number of coffee shops and cafes."
   ]
  },
  {
   "cell_type": "markdown",
   "metadata": {},
   "source": [
    "### Methology"
   ]
  },
  {
   "cell_type": "markdown",
   "metadata": {},
   "source": [
    "For this project, I made an assumption that the neighborhood(s) with the highest number of coffee shops and cafes has the highest demand for caffeinated drinks, and therefore, that neighborhood would be the best location to open up the business.\n",
    "\n",
    "Given the assumption, I needed a dataset with the number of coffee shops and cafes nearby for each neighborhood in NYC. To achieve this I first used the dataset from NYU containing the geographic locations (longitudes and latitudes) of the NYC neighborhoods then made the Foursquare API call to retrieve all venues within the radius of 500 meters of each neighborhood. Once the list of venues were retrieved, the dataset was filtered down to only the venues that were categorized as a coffee shop or a cafe. Lastly, a frequency table of coffee shops and cafes were created for each NYC neighborhood. The neighborhoods with the highest number of coffee shops and cafes were given the label of \"top choice\", ones with the second highest number of venues, \"second choice\", and those with the third highest number of venues, \"third choice\". \n",
    "\n",
    "The neighborhoods with labels \"top choice\", \"second choice\", and \"third choice\" would be the locations I would recommend to the new entrepreneur to open up his/her business."
   ]
  },
  {
   "cell_type": "markdown",
   "metadata": {},
   "source": [
    "### Results"
   ]
  },
  {
   "cell_type": "markdown",
   "metadata": {},
   "source": [
    "The frequency table below shows how many coffee shops and cafes were located within the radius of 500 meters for each NYC neighboorhood (sorted in a descending order):"
   ]
  },
  {
   "cell_type": "markdown",
   "metadata": {},
   "source": [
    "![Result1](../Result1.png)"
   ]
  },
  {
   "cell_type": "markdown",
   "metadata": {},
   "source": [
    "The bar plot below is a visualization of the table above. The top choice neighborhoods (Financial District and Little Italy) are denoted in \"FireBrick\" color. The second choice neighborhood (Washington Heights) is denoted in \"Light Coral\" color, and the third choice neighborhoods (Manhattanville, Carnegie Hill, Lower East Side, Morningside Heights, and Hamilton Heights) are denoted in \"Red\" color. The rest of the neighborhoods are denoted in \"Gray\" color."
   ]
  },
  {
   "cell_type": "markdown",
   "metadata": {},
   "source": [
    "![Result2](../Result2.png)"
   ]
  },
  {
   "cell_type": "markdown",
   "metadata": {},
   "source": [
    "To better make sense of where these neighborhoods are located in NYC, the results are plotted on a map. Again, the top choice neighborhoods (Financial District and Little Italy) are denoted in \"FireBrick\" color. The second choice neighborhood (Washington Heights) is denoted in \"Light Coral\" color, and the third choice neighborhoods (Manhattanville, Carnegie Hill, Lower East Side, Morningside Heights, and Hamilton Heights) are denoted in \"Red\" color. The rest of the neighborhoods are denoted in \"Gray\" color."
   ]
  },
  {
   "cell_type": "markdown",
   "metadata": {},
   "source": [
    "![Result3](../Result3.png)"
   ]
  },
  {
   "cell_type": "markdown",
   "metadata": {},
   "source": [
    "### Discussion"
   ]
  },
  {
   "cell_type": "markdown",
   "metadata": {},
   "source": [
    "From the results, we can see that the top location choices for a new coffee shop or a cafe are Financial District and Little Italy, which are both located near the bottom tip of Manhattan. With relatively high demand for caffeinated drinks, the neighborhoods to the northwest of Central Park could also be potentially good locations for the new entrepreneur to open up his/her business."
   ]
  },
  {
   "cell_type": "markdown",
   "metadata": {},
   "source": [
    "### Conclusion"
   ]
  },
  {
   "cell_type": "markdown",
   "metadata": {},
   "source": [
    "In conclusion, I explored potential locations within NYC that might be good locations for a new entrepreneur to open up his/her coffe shop. Assuming that neighborhoods with high number of coffe shops and cafes is a good indicator for a high demand for caffeinated drinks, I utilized NYU's geogrphic location data of neighborhoods in NYC and Foursquare's venue data to identify NYC neighborhoods that had the highest number of coffee shops and cafes. The results suggest that the neighborhoods near the bottom tip of Manhattan and to the northwest of Central Park are good locations for a coffee shop or a cafe."
   ]
  }
 ],
 "metadata": {
  "kernelspec": {
   "display_name": "Python 3",
   "language": "python",
   "name": "python3"
  },
  "language_info": {
   "codemirror_mode": {
    "name": "ipython",
    "version": 3
   },
   "file_extension": ".py",
   "mimetype": "text/x-python",
   "name": "python",
   "nbconvert_exporter": "python",
   "pygments_lexer": "ipython3",
   "version": "3.6.8"
  }
 },
 "nbformat": 4,
 "nbformat_minor": 2
}
