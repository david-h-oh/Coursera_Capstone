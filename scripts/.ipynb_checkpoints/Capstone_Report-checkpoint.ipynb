{
 "cells": [
  {
   "cell_type": "markdown",
   "metadata": {},
   "source": [
    "# Capstone Project - The Battle of Neighborhoods"
   ]
  },
  {
   "cell_type": "markdown",
   "metadata": {},
   "source": [
    "## Introduction/Business Problem"
   ]
  },
  {
   "cell_type": "markdown",
   "metadata": {},
   "source": [
    "When starting a business for the first time, it can be daunting to identify the best location. For my capstone, suppose someone wants to open a coffee shop or a cafe in New York City (Manhattan). Which neighborhood would be the best location?\n",
    "\n",
    "Here, I make an assumption that the neighborhood with the highest number of coffee shops and cafes has the highest demand for caffeniated drinks, and therefore, would be the best location."
   ]
  },
  {
   "cell_type": "markdown",
   "metadata": {},
   "source": [
    "## Data"
   ]
  },
  {
   "cell_type": "markdown",
   "metadata": {},
   "source": [
    "In order to tackle the problem outlined above, I first import the dataset from NYU for the geographic locations of the New York City neighborhoods ([here](https://geo.nyu.edu/catalog/nyu_2451_34572)). Next, I utilize the Foursquare API call to retrieve the list of coffee shops and cafes for each neighborhood. The list will be used to identify neighborhoods with high number of coffee shops and cafes."
   ]
  }
 ],
 "metadata": {
  "kernelspec": {
   "display_name": "Python 3",
   "language": "python",
   "name": "python3"
  },
  "language_info": {
   "codemirror_mode": {
    "name": "ipython",
    "version": 3
   },
   "file_extension": ".py",
   "mimetype": "text/x-python",
   "name": "python",
   "nbconvert_exporter": "python",
   "pygments_lexer": "ipython3",
   "version": "3.6.8"
  }
 },
 "nbformat": 4,
 "nbformat_minor": 2
}
